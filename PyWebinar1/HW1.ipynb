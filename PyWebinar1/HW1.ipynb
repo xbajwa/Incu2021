{
 "cells": [
  {
   "cell_type": "markdown",
   "metadata": {
    "id": "acoustic-increase"
   },
   "source": [
    "<h1><center><b>Cisco Incubator 2021: DevNet Track</b></center></h1>"
   ]
  },
  {
   "cell_type": "markdown",
   "metadata": {
    "id": "confidential-shareware"
   },
   "source": [
    "![image.png](attachment:image.png)"
   ]
  },
  {
   "cell_type": "markdown",
   "metadata": {
    "id": "alternative-craps"
   },
   "source": [
    "----------------------------------------------------------------------------"
   ]
  },
  {
   "cell_type": "markdown",
   "metadata": {
    "id": "silver-bracelet"
   },
   "source": [
    "<h1><center><b>Session 1: Software Design and Development with Python </b></center></h1>"
   ]
  },
  {
   "cell_type": "markdown",
   "metadata": {
    "id": "affected-contractor"
   },
   "source": [
    "----------------------------------------------------------------------------"
   ]
  },
  {
   "cell_type": "markdown",
   "metadata": {
    "id": "enhanced-shell"
   },
   "source": [
    "## Lab Instructions"
   ]
  },
  {
   "cell_type": "markdown",
   "metadata": {
    "id": "continuous-rogers"
   },
   "source": [
    "Jupyter instructions contain two types of cells: Markdown and Code.\n",
    "* **Markdown** - this is static content, like text and pictures. You **can't** interact with it.\n",
    "* **Code** - this is an interactive cell which **can** be interacted with (run).<br> It is marked with 'In[ ]:' marker on a left.<br>To 'run' code cell press 'Shift+Enter' while the cell is selected (green border) or press 'Run' button in the menu bar (One code cell can be run many times)"
   ]
  },
  {
   "cell_type": "markdown",
   "metadata": {
    "id": "editorial-geometry"
   },
   "source": [
    "This is a markdown cell!\n",
    "It is static, you cant interact with it."
   ]
  },
  {
   "cell_type": "code",
   "execution_count": 7,
   "metadata": {
    "id": "composed-milton"
   },
   "outputs": [
    {
     "name": "stdout",
     "output_type": "stream",
     "text": [
      "Hello World\n"
     ]
    }
   ],
   "source": [
    "# This is code cell! You can interact with it by pressing 'Shift+Enter' or 'Run' button in the menu bar.\n",
    "# Try it!\n",
    "print(\"Hello World\")"
   ]
  },
  {
   "cell_type": "markdown",
   "metadata": {
    "id": "changing-canada"
   },
   "source": [
    "If the **Code** cell has **In[ \\* ]** on a left, it means that it's during the execution of the code. Always wait when the number appears here, for example **In[ 1 ]** - it will mean that the code has been executed.\n",
    "\n",
    "<font style=\"color:red;\"><center>**DISCLAIMER: You need to execute Code cells one by one! Otherwise, it won't work!**<center><font>"
   ]
  },
  {
   "cell_type": "markdown",
   "metadata": {
    "id": "athletic-vienna"
   },
   "source": [
    "----------------------------------------------------------------------------"
   ]
  },
  {
   "cell_type": "markdown",
   "metadata": {
    "id": "aerial-passenger"
   },
   "source": [
    "<center>\n",
    "    <b>Plan:</b><br>\n",
    "1. Python Recap<br>\n",
    "2. Clean Code<br>\n",
    "3. Software Design (MVC and Observer)<br>\n",
    "4. Code Review Process<br>\n",
    "5. Testing<br>\n",
    "6. TDD Concept<br>\n",
    "</center>"
   ]
  },
  {
   "cell_type": "markdown",
   "metadata": {
    "id": "possible-national"
   },
   "source": [
    "----------------------------------------------------------------------------"
   ]
  },
  {
   "cell_type": "markdown",
   "metadata": {
    "id": "certain-austin"
   },
   "source": [
    "<h2><b>1. Python Recap</b></h2>"
   ]
  },
  {
   "cell_type": "markdown",
   "metadata": {
    "id": "computational-matter"
   },
   "source": [
    "<h3><b>Functions and Methods</b></h3>\n",
    "\n",
    "Methods and functions - blocks of code that perform tasks when executed. If the method or function is not executed, those tasks will not be performed. \n",
    "\n",
    "When to put code inside a method or function?\n",
    "+ Task code that is used *more than once* should probably be encapsulated - if you find yourself copying several lines of code around, you need a method or function\n",
    "+ Code that performs a *discrete task* - even if it happens only once, e.g. functions that evaluate inputs and return a logical result (for example, compare two strings for length), perform I/O operations (for example, read a file from disk), or translate data into other forms (for example, parse and process data). In these case, you encapsulate for clarity and testability, as well as for possible future re-use or extension."
   ]
  },
  {
   "cell_type": "code",
   "execution_count": 8,
   "metadata": {
    "id": "disciplinary-advancement",
    "scrolled": true
   },
   "outputs": [
    {
     "name": "stdout",
     "output_type": "stream",
     "text": [
      "Do Something\n"
     ]
    }
   ],
   "source": [
    "# [1A] Function definition: no params, nothing returned\n",
    "def functionName():\n",
    "  print('Do Something')\n",
    "# Call the function\n",
    "functionName()"
   ]
  },
  {
   "cell_type": "markdown",
   "metadata": {
    "id": "mathematical-scoop"
   },
   "source": [
    "<b>Arguments and Parameters</b>\n",
    "\n",
    "Execute the code based on the values of variables passed in on execution = arguments. In order to use arguments when calling a method or function, the method or function needs to be written to accept these variables as parameters.\n",
    "\n",
    "Parameters can be any data type and each parameter in a method or function can have a different data type. Arguments passed to the method or function must match the data type(s) expected by the method or function.\n",
    "\n",
    "Parameters and arguments add flexibility to methods and functions. Sometimes the parameter is just a boolean flag that determines whether certain lines of code should be executed in the method or function. Think of parameters as being the input to the method or function.\n",
    "\n",
    "Syntax of a function using arguments and parameters in Python:"
   ]
  },
  {
   "cell_type": "code",
   "execution_count": 9,
   "metadata": {
    "id": "increased-indication"
   },
   "outputs": [
    {
     "name": "stdout",
     "output_type": "stream",
     "text": [
      "12\n"
     ]
    }
   ],
   "source": [
    "# [1B] Function definition: input params, nothing returned\n",
    "def rectangle_area(a,b):\n",
    "  area = a*b\n",
    "  print(area)\n",
    "    \n",
    "# Call the function\n",
    "rectangle_area(4,3)"
   ]
  },
  {
   "cell_type": "markdown",
   "metadata": {
    "id": "amateur-picnic"
   },
   "source": [
    "**'Strongly typed' languages** - some languages require the data type to be defined in the parameter, while some permit this optionally but it is usually a good idea (code easier to reuse - you see what kind of parameters a method or function expects, error messages are clearer - type missmatch easy to fix):"
   ]
  },
  {
   "cell_type": "code",
   "execution_count": 10,
   "metadata": {
    "id": "accessory-pakistan"
   },
   "outputs": [
    {
     "name": "stdout",
     "output_type": "stream",
     "text": [
      "12\n"
     ]
    }
   ],
   "source": [
    "# [1C] Function definition: input params with types, nothing returned\n",
    "def rectangle_area(a: int,b: int) -> int:\n",
    "  area = a*b\n",
    "  print(area)\n",
    "    \n",
    "# Call the function\n",
    "rectangle_area(4,3)"
   ]
  },
  {
   "cell_type": "markdown",
   "metadata": {
    "id": "established-agreement"
   },
   "source": [
    "<b>Return Statements</b>\n",
    "\n",
    "Methods and functions can also return a value (return statement)\n",
    "\n",
    "When a return statement is executed, the value of the return statement is returned and any code below it gets skipped. It is the job of the line of code calling the method or function to grab the value of the return, but it is not mandatory."
   ]
  },
  {
   "cell_type": "code",
   "execution_count": 11,
   "metadata": {
    "id": "premium-quality"
   },
   "outputs": [
    {
     "name": "stdout",
     "output_type": "stream",
     "text": [
      "42\n"
     ]
    }
   ],
   "source": [
    "# [1D] Function definition: params, result returned\n",
    "def rectangle_area(a,b):\n",
    "  area = a*b\n",
    "  return area\n",
    "  print(area) #that won't be executed\n",
    "    \n",
    "# Call the function\n",
    "rectangle1 = rectangle_area(4,3)\n",
    "rectangle2 = rectangle_area(5,6)\n",
    "full_area = rectangle1 + rectangle2\n",
    "print(full_area)"
   ]
  },
  {
   "cell_type": "markdown",
   "metadata": {
    "id": "delayed-albuquerque"
   },
   "source": [
    "Notice that the version of code that uses functions, parameters, and arguments results in **no duplicate code**. Also, by using functions, you are able to label blocks of code, which make their purposes more understandable. If this example were more complicated and there were a lot of lines of code within each function, having the blocks of code duplicated three times in the file would make it much harder to understand."
   ]
  },
  {
   "cell_type": "markdown",
   "metadata": {
    "id": "clinical-moscow"
   },
   "source": [
    "<h3><b>Modules</b></h3>\n",
    "\n",
    "Modules are a way to build independent and self-contained chunks of code that can be reused, packaged as a single file, work independently. Developers typically use modules to divide a large project into smaller parts. This way the code is easier to read and understand, and each module can be developed in parallel without conflicts. \n",
    "\n",
    "A module consists of a set of functions and typically contains an interface for other modules to integrate with. It is essentially, a library, and cannot be instantiated."
   ]
  },
  {
   "cell_type": "code",
   "execution_count": 12,
   "metadata": {
    "id": "dangerous-fabric"
   },
   "outputs": [
    {
     "name": "stdout",
     "output_type": "stream",
     "text": [
      "3.141592653589793\n"
     ]
    }
   ],
   "source": [
    "import math\n",
    "\n",
    "print(math.pi)"
   ]
  },
  {
   "cell_type": "markdown",
   "metadata": {
    "id": "determined-tribe"
   },
   "source": [
    "<h3><b>Classes</b></h3>\n",
    "\n",
    "In most object-orient programming (OOP) languages, and in Python, classes are a means of bundling data and functionality (via methods) in a single structure. Each class declaration defines a new object type.\n",
    "\n",
    "Classes may have class variables and object variables. As a new class object is created, new class data members and object data members (variables) are created. New classes may be defined, based on existing, previously defined classes, so that they inherit the properties, data members, and functionality (methods)."
   ]
  },
  {
   "cell_type": "code",
   "execution_count": null,
   "metadata": {
    "id": "operating-butter"
   },
   "outputs": [],
   "source": [
    "# Class definition\n",
    "class Car():\n",
    "    def __init__(self, brand, model):\n",
    "        self.brand = brand\n",
    "        self.model = model\n",
    "        self.air_conditioning = True  #shared by all objects by default"
   ]
  },
  {
   "cell_type": "markdown",
   "metadata": {
    "id": "sexual-vault",
    "scrolled": true
   },
   "source": [
    "As with other Python data structures and variables, objects are instantiated (created) as they are first used, rather than being predeclared.  \n",
    "A class may be instantiated (created) multiple times, and each with its own object-specific data attribute values. \n",
    "\n",
    "Python classes also support class variables that are shared by all objects of a class.  \n",
    "Outside of the class name scope, class methods and data attributes are referenced using the dot notation: [class instance].[method name]."
   ]
  },
  {
   "cell_type": "code",
   "execution_count": null,
   "metadata": {
    "id": "democratic-continent",
    "scrolled": true
   },
   "outputs": [],
   "source": [
    "# 1st instance (Object) created based on Class definition\n",
    "car1 = Car('Fiat', 'Punto')\n",
    "print(car1)\n",
    "print(car1.brand)\n",
    "print(car1.model)\n",
    "print(car1.air_conditioning)\n",
    "\n",
    "# 2nd instance (Object) created based on Class definition\n",
    "car2 = Car('Porsche', 'Carrera')\n",
    "print(car2)\n",
    "print(car2.brand)\n",
    "print(car2.model)\n",
    "print(car2.air_conditioning)"
   ]
  },
  {
   "cell_type": "markdown",
   "metadata": {
    "id": "tribal-bouquet",
    "scrolled": true
   },
   "source": [
    "Note: Unlike other OOP languages, in Python, there is no means of creating 'private' class variables or internal methods. However, by convention, methods and variables with a single preceding underscore ( _ ) are considered private and not to be used or referenced outside of the class."
   ]
  },
  {
   "cell_type": "markdown",
   "metadata": {
    "id": "nearby-california"
   },
   "source": [
    "----------------------------------------------------------------------------"
   ]
  },
  {
   "cell_type": "markdown",
   "metadata": {
    "id": "transsexual-angle"
   },
   "source": [
    "<h2><b>2. Clean Code</b></h2>"
   ]
  },
  {
   "cell_type": "markdown",
   "metadata": {
    "id": "civil-sullivan"
   },
   "source": [
    "Clean code = developers trying to make their code easy to read and understand for other developers.\n",
    "\n",
    "Golden rules:\n",
    "- stick with indentation level (ALL tabs/spaces in the right places)\n",
    "- standardized formatting e.g. syntax, curly braces ({}) - easier to scan and check using automated tools such as linters, or command-line tools like grep, awk, and sed.\n",
    "- intuitive naming of variables, objects, and others\n",
    "- code organization following standards\n",
    "- documentation and comments\n",
    "- removed all unused code\n",
    "- modularity - facilitate testing and reuse\n",
    "- should look nice\n",
    "\n",
    "PEP8 = https://www.python.org/dev/peps/pep-0008/\n",
    "\n",
    "In theory, other developers should be able to understand, use, and modify your code without being able to ask you questions. This accelerates development enormously, enabling reuse, debugging, security analysis, code review and merging, along with other processes. It lets longstanding projects (for example, open source projects) incorporate your code with greater confidence. And it lets organizations keep using your code efficiently, after you have moved on to other projects or jobs. It tends to result in code that works correctly (fewer bugs) and performs as required\n",
    "\n",
    "By contrast, code that is not clean quickly becomes technical debt. It may be unmaintainable, or unusable with complete confidence. It is code that needs to be refactored, or removed and rewritten, which is expensive and time-consuming."
   ]
  },
  {
   "cell_type": "markdown",
   "metadata": {
    "id": "rotary-inquiry"
   },
   "source": [
    "Following code could be easily broken into functions:"
   ]
  },
  {
   "cell_type": "code",
   "execution_count": null,
   "metadata": {
    "id": "proud-wings"
   },
   "outputs": [],
   "source": [
    "a = 2\n",
    "b = 3\n",
    "rect1 = a*b\n",
    "print(\"Rectangle area: {0}\".format(rect1))\n",
    "c = 4\n",
    "d = 5\n",
    "rect2 = c*d\n",
    "print(\"Rectangle area: {0}\".format(rect2))\n",
    "e = 6\n",
    "f = 7\n",
    "rect3 = e*f\n",
    "print(\"Rectangle area: {0}\".format(rect3))"
   ]
  },
  {
   "cell_type": "code",
   "execution_count": null,
   "metadata": {
    "id": "joined-parker"
   },
   "outputs": [],
   "source": [
    "def rectangle_area(a,b):\n",
    "  area = a*b\n",
    "  print(\"Rectangle area: {0}\".format(area))\n",
    "  return area\n",
    "\n",
    "rect1 = rectangle_area(2,3)\n",
    "rect2 = rectangle_area(4,5)\n",
    "rect3 = rectangle_area(6,7)"
   ]
  },
  {
   "cell_type": "markdown",
   "metadata": {
    "id": "amended-cabinet"
   },
   "source": [
    "Always think how to most efficiently break code into methods and functions, modules, and classes."
   ]
  },
  {
   "cell_type": "markdown",
   "metadata": {
    "id": "incorrect-bulletin"
   },
   "source": [
    "----------------------------------------------------------------------------"
   ]
  },
  {
   "cell_type": "markdown",
   "metadata": {
    "id": "favorite-mongolia"
   },
   "source": [
    "<h2><b>3. Code Review Process</b></h2>"
   ]
  },
  {
   "cell_type": "markdown",
   "metadata": {
    "id": "twenty-classics"
   },
   "source": [
    "**Code review** - when developers (reviewers) look over the codebase, a subset of code, or specific code changes (completed and tested!) and provide feedback. \n",
    "\n",
    "Reviewers:\n",
    "- more than one reviewer when possible\n",
    "- should understand the purpose of the code so that they can give quality and relevant feedback \n",
    "- providing comments, typically to the author of the code, on what they think needs to be fixed\n",
    "\n",
    "Authors:\n",
    "- it is up to the author to decide if the comment needs to be addressed (comments can be subjective),\n",
    "- good to have agreement from the reviewer(s) if it will not be fixed\n",
    "\n",
    "The goal of code reviews:\n",
    "- code authors get input from the reviewers and learn additional best practices, other ways the code could have been implemented, and different coding styles (from their mistakes!)\n",
    "- transfer knowledge about the code between developers (better understanding for the future)\n",
    "- increases the quality of the final code (clean, refined, formatted, commented, free of bugs, following best practices, easy to read and understand)\n",
    "\n",
    "**Code reviews aren’t just for junior developers!**\n",
    "\n",
    "![image.png](attachment:image.png)\n",
    "\n",
    "There are many ways to do code reviews. Each one has its own benefits. The most common types of code review processes include:\n",
    "\n",
    "- Formal code review\n",
    "- Change-based code review\n",
    "- Over-the-shoulder code review\n",
    "- Email pass-around\n",
    "- Formal Code Review\n",
    "\n",
    "➡️ **Formal Code Review (Fagan inspection)**\n",
    "\n",
    "Series of meetings to review the whole codebase (where they go over the code line by line, discussing each one in detail). This type of code reviews process is popular in Waterfall software development methodology and promotes discussion between all of the reviewers (to give better feedback and reach a consensus).\n",
    "\n",
    "Details of the code review meetings, such as the attendees, the comments, and comments that will be addressed, are documented.\n",
    "\n",
    "+ Walkthrough - a modern adaptation of the formal code review, single meeting to review only the code changes (live discussion)\n",
    "\n",
    "➡️ **Change-Based Code Review (tool-assisted)**\n",
    "\n",
    "Reviews code that was changed as a result of a bug, user story, feature, commit, etc. - initiated by the developers who made the code changes and are responsible for addressing the agreed upon comments. In order to determine the code changes that need to be reviewed, a peer code review tool that highlights the code changes is typically used. Reviewers usually perform the review independently and provide the comments via the peer code review tool.\n",
    "\n",
    "+ GOOD: easy to determine the actual code changes to be reviewed and enable multiple reviewers to get a diverse look into the code\n",
    "\n",
    "➡️ **Over-the-Shoulder Code Review**\n",
    "\n",
    "A reviewer looks over the shoulder of the developer who wrote the code. The developer who wrote the code goes through the code changes line by line and the reviewer provides feedback.\n",
    "\n",
    "If the fix is not difficult, the code may be changed on the spot so that the reviewer can re-review it immediately. \n",
    "+ GOOD: direct interaction between the author of the code and the reviewer, which allows for discussion about what is the right fix\n",
    "- BAD: it typically involves only one reviewer, so the comments can be one-sided\n",
    "\n",
    "➡️ **Email Pass-Around**\n",
    "\n",
    "Automatic emails sent by source code management systems when a checkin is made. When the emails are sent, it is up to the other developers to review the code changes that were made in that checkin. \n",
    "- ISSUE: sometimes a single checkin can be just a piece of the whole code change, so it may not include the proper context to fully understand the code changes"
   ]
  },
  {
   "cell_type": "markdown",
   "metadata": {
    "id": "educational-original"
   },
   "source": [
    "----------------------------------------------------------------------------"
   ]
  },
  {
   "cell_type": "markdown",
   "metadata": {
    "id": "careful-spell"
   },
   "source": [
    "<h2><b>4. Software Design</b></h2>"
   ]
  },
  {
   "cell_type": "markdown",
   "metadata": {
    "id": "twelve-detail"
   },
   "source": [
    "<h3>Decomposition to Inheritance</h3>"
   ]
  },
  {
   "cell_type": "markdown",
   "metadata": {
    "id": "romance-lying"
   },
   "source": [
    "**Software design patterns** - best practices for common problems in all languages, already been proven to be successful, so using them can speed up development because developers don't need to come up with new solutions and go through a proof of concept to make sure they work\n",
    "\n",
    "For example, a bus stop and a hospital waiting room, are both places in which people wait; so both can usefully implement features of the pattern A PLACE TO WAIT.\n",
    "\n",
    "1. Program to an **interface**, NOT an implementation. Tightly coupling mainline program logic with implementations of specific functionality tends to make code hard to understand and maintain. Experience has shown that it works better to loosely-couple logical layers by using abstract interfaces. For instance, the mainline code calls functions and methods in a generic way. Lower-level functions implement matching interfaces for the functionality they provide, ensuring, for example, that all serialization functions used in a program are called in similar fashion.\n",
    "\n",
    "Object-oriented languages like Java formalize these ideas. They enable explicit declaration of **interfaces** that classes can implement. An interface definition is basically a collection of function prototypes, defining names and types for functions and parameters that higher-level logic might use to invoke a range of classes. For example, the interface to a range of 'vehicle' classes (e.g., class 'car,' 'motorcycle,' 'tractor') might include start_engine(), stop_engine(), accelerate(), and brake() prototypes.\n",
    "\n",
    "2. Favor object **composition** OVER class inheritance.  \n",
    "**Inheritance** - more generalized base classes can be inherited by derived classes, e.g.\n",
    "A 'duck' class might inherit substantial functionality from a 'bird' class. This requires, however, that the bird class implement a very wide range of methods, most of which may not be used by a specific derived class.\n",
    "\n",
    "**Composition** - favor implementing a specific class (class - duck) by creating only required unique subclasses (class - quack) along with abstract interfaces (interface - 'ducklike') to classes (class - fly, class - swim) that can be shared widely in similar fashion (class - penguin implements interface 'penguinlike,' enabling sharing of class 'swim,' but not 'fly'). Organizing software in this way has proven to be most flexible, ultimately easier to maintain, and encourages reuse of code."
   ]
  },
  {
   "cell_type": "markdown",
   "metadata": {
    "id": "congressional-editor"
   },
   "source": [
    "Patterns are usually divided into three main categories:\n",
    "\n",
    "- **Creational** - used to guide, *simplify*, and abstract software object creation at scale.\n",
    "- **Structural** - describing reliable ways of using objects and classes *for different* kinds of software projects.\n",
    "- **Behavioral** - detailing how objects can *communicate* and work together to meet familiar challenges in software engineering."
   ]
  },
  {
   "cell_type": "markdown",
   "metadata": {
    "id": "hispanic-contrast"
   },
   "source": [
    "- <h3><b>SW Patterns: Observer</b></h3>"
   ]
  },
  {
   "cell_type": "markdown",
   "metadata": {
    "id": "supreme-being"
   },
   "source": [
    "Behavioral design pattern based on subscription notification that lets objects (observers or subscribers) receive events when there are changes to an object (subject or publisher) they are observing. The benefit of the observer design pattern is that observers can get real time data from the subject when a change occurs. Subscription mechanisms always provide better performance than other options, such as polling.\n",
    "\n",
    "For example:  \n",
    "Users (observers) follow other users (subjects).  \n",
    "When the subject posts something on their social media, it notifies all of the observers that there is a post, and the observers look at that update.\n",
    "\n",
    "To implement this subscription mechanism:  \n",
    "- The subject must have the ability to store a list of all of its observers.\n",
    "- The subject must have methods to add and remove observers.\n",
    "- All observers must implement a callback to invoke when the publisher sends a notification, preferably using a standard interface to simplify matters for the publisher. This interface needs to declare the notification mechanism, and it needs to have parameters for the publisher to send the necessary data to the observer.\n",
    "\n",
    "The execution of this design pattern looks like this:\n",
    "\n",
    "1. An observer adds itself to the subject's list of observers by invoking the subject's method to add an observer.\n",
    "2. When there is a change to the subject, the subject notifies all of the observers on the list by invoking each observer's callback and passing in the necessary data.\n",
    "3. The observer's callback is triggered, and therefore executed, to process the notification.\n",
    "4. Steps 2 and 3 continue whenever there is a change to the subject.\n",
    "5. When the observer is done receiving notifications, it removes itself from the subject's list of observers by invoking the subject's method to remove an observer.\n",
    "\n",
    "\n",
    "![image.png](attachment:image.png)"
   ]
  },
  {
   "cell_type": "markdown",
   "metadata": {
    "id": "enhanced-requirement"
   },
   "source": [
    "- <h3><b>SW Patterns: MVC</b></h3>"
   ]
  },
  {
   "cell_type": "markdown",
   "metadata": {
    "id": "grand-thermal"
   },
   "source": [
    "**Model-View-Controller (MVC)** - design/architectural pattern that abstracts code and responsibility into three different components (where each component communicates with each other in one direction): \n",
    "- **Model** - The model is the application's data structure and is responsible for managing the data, logic and rules of the application. It gets input from the controller.\n",
    "- **View** - The view is the visual representation of the data. There can be multiple representations of the same data.\n",
    "- **Controller** - The controller is like the middleman between the model and view. It takes in user input and manipulates it to fit the format for the model or view.\n",
    "\n",
    "The execution of the Model-View-Controller looks like this:\n",
    "\n",
    "1. User: provides input.\n",
    "2. Controller: accepts the input and manipulates the data, then sends the manipulated data to the model.\n",
    "3. Model: accepts the manipulated data, processes it, and sends the selected data (in the strictest forms of MVC, via the controller) to the View.\n",
    "4. View: accepts the selected data and displays it to the user.\n",
    "5. User: sees the updated data as a result of their input.\n",
    "\n",
    "![image.png](attachment:image.png)\n",
    "\n",
    "Benefits:\n",
    "- commonly used in user interfaces (UI) and web application because it simplifies development of applications that depend on GUI (Graphic User Interfaces)\n",
    "- each component can be built in parallel (is abstracted), the only information each component needs is the input and output interface for the other two components. Components don't need to know about the implementation within the other components. What's more, because each component is only dependent on the input it receives, components can be reused as long as the other components provide the data according to the correct interface.\n"
   ]
  },
  {
   "cell_type": "markdown",
   "metadata": {
    "id": "grand-travel"
   },
   "source": [
    "----------------------------------------------------------------------------"
   ]
  },
  {
   "cell_type": "markdown",
   "metadata": {
    "id": "functioning-scene"
   },
   "source": [
    "<h2><b>5. Testing</b></h2>"
   ]
  },
  {
   "cell_type": "markdown",
   "metadata": {
    "id": "informed-thunder"
   },
   "source": [
    "**Software Testing** - make sure it works the way it is supposed to work\n",
    "- **Functional testing** - examines whether software works correctly. Does it behave as intended in a logical sense:\n",
    "  - Unit Testing - lowest levels of detail\n",
    "  - Integration Testing - higher levels of complexity\n",
    "- **Non-functional testing** - examines usability, performance, security, resiliency, compliance, localization, and many other issues. This type of testing finds out if software is fit for its purpose, provides the intended value, and minimizes risk.\n",
    "\n",
    "**Test-Driven Development (TDD)** - developers advocate using testing as a framework for guiding software development. This means capturing design requirements as tests and then only writing software to pass those tests\n",
    "\n",
    "\"Agile\" software development favors highly-adaptable, minimally-planned creation and extension of a **Minimum Viable Product (MVP)** over short sprints. This means the product exists, in some form, from very early on in the process. And that means it can be subject both to functional and non-functional tests from the start.\n",
    "\n"
   ]
  },
  {
   "cell_type": "markdown",
   "metadata": {
    "id": "biblical-detective"
   },
   "source": [
    "<h3><b>Unit Testing</b></h3>"
   ]
  },
  {
   "cell_type": "markdown",
   "metadata": {
    "id": "differential-intersection"
   },
   "source": [
    "Detailed functional testing of small pieces of code (lines, blocks, functions, classes, and other components in isolation). \n",
    "Usually automated via test frameworks that lets you make assertions about testable conditions and determine if these assertions are valid at a point in execution. For example:"
   ]
  },
  {
   "cell_type": "code",
   "execution_count": 13,
   "metadata": {
    "id": "athletic-warrior"
   },
   "outputs": [],
   "source": [
    "assert 2+2 == 4, \"Result is wrong!\""
   ]
  },
  {
   "cell_type": "markdown",
   "metadata": {
    "id": "dated-beaver"
   },
   "source": [
    "The **assert** keyword is actually native to Python.  \n",
    "In this case, the assertion will return true because 2 + 2 does, in fact, equal 4. On the other hand, if you were to have:"
   ]
  },
  {
   "cell_type": "code",
   "execution_count": 14,
   "metadata": {
    "id": "comfortable-quick"
   },
   "outputs": [
    {
     "ename": "AssertionError",
     "evalue": "Result is wrong!",
     "output_type": "error",
     "traceback": [
      "\u001b[1;31m---------------------------------------------------------------------------\u001b[0m",
      "\u001b[1;31mAssertionError\u001b[0m                            Traceback (most recent call last)",
      "\u001b[1;32m<ipython-input-14-712c389304ab>\u001b[0m in \u001b[0;36m<module>\u001b[1;34m\u001b[0m\n\u001b[1;32m----> 1\u001b[1;33m \u001b[1;32massert\u001b[0m \u001b[1;36m2\u001b[0m\u001b[1;33m+\u001b[0m\u001b[1;36m2\u001b[0m \u001b[1;33m==\u001b[0m \u001b[1;36m3\u001b[0m\u001b[1;33m,\u001b[0m \u001b[1;34m\"Result is wrong!\"\u001b[0m\u001b[1;33m\u001b[0m\u001b[1;33m\u001b[0m\u001b[0m\n\u001b[0m",
      "\u001b[1;31mAssertionError\u001b[0m: Result is wrong!"
     ]
    }
   ],
   "source": [
    "assert 2+2 == 3, \"Result is wrong!\""
   ]
  },
  {
   "cell_type": "markdown",
   "metadata": {
    "id": "technological-enzyme"
   },
   "source": [
    "It would return false and trigger an error."
   ]
  },
  {
   "cell_type": "markdown",
   "metadata": {
    "id": "practical-fossil"
   },
   "source": [
    "**Framework: PyTest**\n",
    "\n",
    "From pip repositories: pip3 install pytest; can run unittest tests without modification, but it also simplifies testing by letting coders build tests as simple functions rather than class methods.  \n",
    "\n",
    "PyTest is handy because it automatically executes any scripts that start with test_ or end with _test.py, and within those scripts, automatically executes any functions beginning with 'test_' or 'tests_'. So we can unit test a piece of code (such as a function) by copying it into a file, importing pytest, adding appropriately-named testing functions (names that begin with tests_ ), saving the file under a filename that also begins with 'tests_,' and running it with PyTest.\n",
    "\n",
    "Suppose we want to test the function add5() , which adds 5 to a passed value, and returns the result."
   ]
  },
  {
   "cell_type": "markdown",
   "metadata": {
    "id": "optical-madonna"
   },
   "source": [
    "We can save the function in a file called tests_mytest.py. Then import pytest and write a function to contain our tests, called tests_add5() :"
   ]
  },
  {
   "cell_type": "code",
   "execution_count": null,
   "metadata": {
    "id": "aerial-surgeon"
   },
   "outputs": [],
   "source": [
    "%%writefile first.py\n",
    "import pytest\n",
    "\n",
    "def add5(v):\n",
    "    myval = v + 5\n",
    "    return myval\n",
    "\n",
    "def tests_add5():\n",
    "    r = add5(1)\n",
    "    assert r == 6\n",
    "    r = add5(5)\n",
    "    assert r == 10\n",
    "    r = add5(10.102645)\n",
    "    assert r == 15.102645"
   ]
  },
  {
   "cell_type": "code",
   "execution_count": null,
   "metadata": {
    "id": "national-auction"
   },
   "outputs": [],
   "source": [
    "!pytest first.py"
   ]
  },
  {
   "cell_type": "markdown",
   "metadata": {
    "id": "realistic-corps"
   },
   "source": [
    "The tests in our testing function use the standard Python assert keyword. PyTest will compile and report on those results, both when collecting test elements from the file (a preliminary step where PyTest examines Python's own code analysis and reports on proper type use and other issues that emerge prior to runtime), and while running the tests_add5() function."
   ]
  },
  {
   "cell_type": "markdown",
   "metadata": {
    "id": "complicated-nothing"
   },
   "source": [
    "Note that while the function under test is certainly trivial, many real-world programs contain functions that, like this one, perform math on their arguments. Typically, these functions are called by higher-level functions, which then do additional processing on the returned values.\n",
    "\n",
    "If there is a mistake in a lower-level function, causing it to return a bad result, this will likely be reflected in higher-level output. But because of all the intermediary processing, it might be difficult or impossible to find the source of an error (or even note whether an error occurred) by looking at output of these higher-level functions, or at program output in general.\n",
    "\n",
    "That is one reason why detailed unit testing is essential for developing reliable software. And it is a reason why unit tests should be added, each time you add something significant to code at any level, and then re-run with every change you make. We recommend that, when concluding a work session, you write a deliberately-broken unit test as a placeholder, then use a start-of-session unit test run to remind you where you left off."
   ]
  },
  {
   "cell_type": "markdown",
   "metadata": {
    "id": "developmental-monaco"
   },
   "source": [
    "**Framework: unittest**\n",
    "\n",
    "Included in Python by default; it lets you create test collections as methods extending a default TestCase class.  \n",
    "\n",
    "The unittest framework demands a different syntax than PyTest. For unittest , you need to subclass the built-in TestCase class and test by overriding its built-in methods or adding new methods whose names begin with 'test_'. The example unit test script, above, could be modified to work with unittest like this:"
   ]
  },
  {
   "cell_type": "code",
   "execution_count": null,
   "metadata": {
    "id": "convinced-springer"
   },
   "outputs": [],
   "source": [
    "import unittest\n",
    "\n",
    "def add5(v):\n",
    "    myval = v + 5\n",
    "    return myval\n",
    "\n",
    "class tests_add5(unittest.TestCase):\n",
    "    def test_add5(self):\n",
    "        self.assertEqual(add5(1),6)\n",
    "        self.assertEqual(add5(5),10)\n",
    "        self.assertEqual(add5(10.102645),15.102645)\n",
    "\n",
    "if __name__ == '__main__':\n",
    "    unittest.main(argv=['first-arg-is-ignored'], exit=False)"
   ]
  },
  {
   "cell_type": "markdown",
   "metadata": {
    "id": "noted-arizona"
   },
   "source": [
    "As with PyTest, you import the unittest module to start. Your function follows.\n",
    "\n",
    "To subclass the TestCase class, pass it to your own (derived) test class (again called tests_add5, though this is now a class, rather than a function), causing the latter to inherit all characteristics of the former. For more on Python object-oriented programming (OOP), see the documentation.\n",
    "\n",
    "Next, use unittest's assertEqual method (this is one of a wide range of built-in test methods) in the same way that you used Python's native assert in the PyTest example. Basically, you are running your function with different arguments, and checking to see if returned values match expectations.\n",
    "\n",
    "The last stanza is a standard way of enabling command-line execution of our program, by calling its main function; which, in this case, is defined by unittest.\n",
    "\n",
    "Save this file (again as tests_mytest.py ), ensure that it is executable (for example, in Linux, using chmod +x tests_mytest.py ) and execute it, adding the -v argument to provide a verbose report:"
   ]
  },
  {
   "cell_type": "markdown",
   "metadata": {
    "id": "persistent-clerk"
   },
   "source": [
    "<h3><b>Integration Testing</b></h3>"
   ]
  },
  {
   "cell_type": "markdown",
   "metadata": {
    "id": "marked-wallet"
   },
   "source": [
    "Makes sure that all of individual units you have been building fit together properly to make a complete application.  \n",
    "e.g. application that you are writing needs to consult a local web service to obtain configuration data, including the name of a relevant database host.  \n",
    "\n",
    "You might want to test the values of variables set when these functions are called. If you were using PyTest, you could do that like this:"
   ]
  },
  {
   "cell_type": "code",
   "execution_count": null,
   "metadata": {
    "id": "featured-tender"
   },
   "outputs": [],
   "source": [
    "import pytest\n",
    "import requests   # python module that simplifies making web requests\n",
    "\n",
    "def get_config():\n",
    "    return requests.get(\"http://localhost/get_config\").content\n",
    "\n",
    "def set_config(dbhost):\n",
    "    requests.get(\"http://localhost/config_action?dbhost=\"+dbhost)\n",
    "    \n",
    "save_dbhost = \"\"\n",
    "\n",
    "def setUp():\n",
    "    global save_dbhost\n",
    "    save_dbhost = get_config()\n",
    "    \n",
    "def tearDown():\n",
    "    global save_dbhost\n",
    "    set_config(save_dbhost)\n",
    "\n",
    "def test_setconfig():\n",
    "    setUp()\n",
    "    set_config(\"TESTVAL\")\n",
    "    assert get_config() == \"ESTVAL\"\n",
    "    tearDown()"
   ]
  },
  {
   "cell_type": "markdown",
   "metadata": {
    "id": "international-delay"
   },
   "source": [
    "Note that your test_setconfig() method deliberately calls your setUp() function before running tests, and your tearDown() function afterward. In unittest, methods called setUp() and tearDown() are provided by the TestCase class, can be overridden in your defined subclass, and are executed automatically."
   ]
  },
  {
   "cell_type": "markdown",
   "metadata": {
    "id": "reverse-hygiene"
   },
   "source": [
    "Again, you should run your integration tests before you make any changes for the day, whenever you make significant changes, and before you close out for the day. If you are using Continuous Integration, any errors you find must be corrected before you do anything else."
   ]
  },
  {
   "cell_type": "markdown",
   "metadata": {
    "id": "neutral-ecology"
   },
   "source": [
    "----------------------------------------------------------------------------"
   ]
  },
  {
   "cell_type": "markdown",
   "metadata": {
    "id": "threaded-variation"
   },
   "source": [
    "<h2><b>6. TDD Concept</b></h2>"
   ]
  },
  {
   "cell_type": "markdown",
   "metadata": {
    "id": "changing-israel"
   },
   "source": [
    "**Test-Driven Development** (sometimes called Test-First Development) - write testing code before you write application code, having expressed requirements in your testing code, you can then write application code until it passes the tests you have created in the testing code.\n",
    "\n",
    "Building small, simple unit and integration tests around small bits of code helps in two ways:\n",
    "\n",
    "- validate system design (if units are following requirements within the context of your evolving solution)\n",
    "- bugs are isolated locally and fixed with refactored code, before actual testing or using parts of the solution that depend on these components\n",
    "\n",
    "The basic pattern of TDD is a five-step, repeating process:\n",
    "\n",
    "1. Create a **new test** (adding it to existing tests, if they already exist). The idea here is to capture some requirement of the unit of application code you want to produce.\n",
    "2. **Run tests** to see if any fail for unexpected reasons. If this happens, correct the tests. Note that expected failures, here, are acceptable (for example, if your new test fails because the function it is designed to test does not yet exist, that is an acceptable failure at this point).\n",
    "3. **Write application code** to pass the new test. The rule here is to add nothing more to the application besides what is required to pass the test.\n",
    "4. **Run tests** to see if any fail. If they do, correct the application code and try again.\n",
    "5. **Refactor and improve application code**. Each time you do, re-run the tests and correct application code if you encounter any failures.\n",
    "\n",
    "This mandates creation of a highly-testable code (that breaks operations down into pure functions that can be tested in isolation, in any order, etc.) By proceeding this way, the test harness leads and grows in lockstep with your application.\n"
   ]
  },
  {
   "cell_type": "markdown",
   "metadata": {
    "id": "needed-pulse"
   },
   "source": [
    "----------------------------------------------------------------------------"
   ]
  },
  {
   "cell_type": "markdown",
   "metadata": {
    "id": "raising-nursery"
   },
   "source": [
    "<h2><b>Checklist:</b></h2>"
   ]
  },
  {
   "cell_type": "markdown",
   "metadata": {
    "id": "thick-doctor"
   },
   "source": [
    "I know:\n",
    "- basic Python components, e.g. functions, methods, classes, objects, modules\n",
    "- difference between function and method\n",
    "- how to turn reusable code into functions\n",
    "- clean code basics and benefits\n",
    "- 3 types of Software Design Patterns\n",
    "- how MVC and Observer patterns work\n",
    "- steps of Code Review process and its benefits\n",
    "- concept of TDD\n",
    "- what's the difference between Unit Testing and Integration Testing\n",
    "- how to write Unit Test and Integration Test"
   ]
  },
  {
   "cell_type": "markdown",
   "metadata": {
    "id": "junior-canvas"
   },
   "source": [
    "----------------------------------------------------------------------------"
   ]
  },
  {
   "cell_type": "markdown",
   "metadata": {
    "id": "abroad-doctor"
   },
   "source": [
    "<h2><b>HOMEWORK:</b></h2>"
   ]
  },
  {
   "cell_type": "markdown",
   "metadata": {
    "id": "mathematical-strain"
   },
   "source": [
    "1. This code is ugly! Fix it using function (and return final result):"
   ]
  },
  {
   "cell_type": "code",
   "execution_count": null,
   "metadata": {
    "id": "coated-catch"
   },
   "outputs": [],
   "source": [
    "# CODE\n",
    "result1 = 0+1\n",
    "print(result1)\n",
    "result2 = 1+2\n",
    "print(result2)\n",
    "result3 = 2+3\n",
    "print(result3)\n",
    "result4 = 3+4\n",
    "print(result4)\n",
    "result5 = 4+5\n",
    "print(result5)\n",
    "final = result1 + result2 + result3 + result4 + result5\n",
    "print(final)\n"
   ]
  },
  {
   "cell_type": "code",
   "execution_count": null,
   "metadata": {
    "colab": {
     "base_uri": "https://localhost:8080/"
    },
    "id": "aggregate-ensemble",
    "outputId": "f9156091-6995-4ade-8d18-74c86801cda9"
   },
   "outputs": [],
   "source": [
    "# YOUR SOLUTION\n",
    "\n",
    "def add(a,b):\n",
    "  ans = a+b\n",
    "  print(ans)\n",
    "  return ans\n",
    "\n",
    "result1 = add(0,1)\n",
    "result2 = add(1,2)\n",
    "result3 = add(2,3)\n",
    "result4 = add(3,4)\n",
    "result5 = add(4,5)\n",
    "\n",
    "final = result1 + result2 + result3 + result4 + result5\n",
    "print(final)"
   ]
  },
  {
   "cell_type": "markdown",
   "metadata": {
    "id": "prescribed-nebraska"
   },
   "source": [
    "2. These functions doesn't work as expected. Fix them:"
   ]
  },
  {
   "cell_type": "code",
   "execution_count": 5,
   "metadata": {
    "colab": {
     "base_uri": "https://localhost:8080/"
    },
    "id": "other-disclaimer",
    "outputId": "b592c6b2-4ef8-47f5-9197-f28e7664fdd7"
   },
   "outputs": [
    {
     "name": "stdout",
     "output_type": "stream",
     "text": [
      "Result: 8\n",
      "8\n",
      "Result: 15\n",
      "15\n"
     ]
    }
   ],
   "source": [
    "def test_function(a,b):\n",
    "    \"\"\" Why result1 is None? :( return result was missing\n",
    "    \"\"\"\n",
    "    result = a*b\n",
    "    print('Result: {0}'.format(result))\n",
    "    return result\n",
    "\n",
    "result1 = test_function(2,4)\n",
    "print(result1)\n",
    "\n",
    "#######################################\n",
    "\n",
    "def test_function2(a,b):\n",
    "    \"\"\" Why do we have only 15 instead of Result: 15 as well? :( result was returned before the print command\n",
    "    \"\"\"\n",
    "    result = a*b\n",
    "    print('Result: {0}'.format(result))\n",
    "    return result\n",
    "    \n",
    "\n",
    "result2 = test_function2(3,5)\n",
    "print(result2)"
   ]
  },
  {
   "cell_type": "markdown",
   "metadata": {
    "id": "graduate-paint"
   },
   "source": [
    "3. Write a class definition of a Pizza, create 3 pizzas:\n",
    "- 50cm, Quattro Formaggi with olive oil\n",
    "- 32cm, Prosciutto with garlic sauce\n",
    "- 40cm, Margheritta with tomato sauce"
   ]
  },
  {
   "cell_type": "code",
   "execution_count": null,
   "metadata": {
    "id": "beneficial-revolution"
   },
   "outputs": [],
   "source": [
    "# YOUR SOLUTION\n",
    "# Class definition\n",
    "class Pizza():\n",
    "    def __init__(self, name, size,addon):\n",
    "        self.name = name\n",
    "        self.size = size\n",
    "        self.addon = addon\n",
    "\n",
    "\n",
    "pizza1 = Pizza('Quattro Formaggi', '50cm', 'Olive Oil')\n",
    "pizza2 = Pizza('Prosciutto', '32cm', 'Garlic Sauce')\n",
    "pizza3 = Pizza('Margheritta', '40cm', 'Tomato Sauce')"
   ]
  },
  {
   "cell_type": "code",
   "execution_count": 4,
   "metadata": {
    "colab": {
     "base_uri": "https://localhost:8080/"
    },
    "id": "_nNdo132NVTn",
    "outputId": "316841c1-8708-4535-8ecb-87bcc8e8b201"
   },
   "outputs": [
    {
     "name": "stdout",
     "output_type": "stream",
     "text": [
      "Quattro Formaggi\n",
      "50cm\n",
      "Olive Oil\n"
     ]
    }
   ],
   "source": [
    "print(pizza1.name)\n",
    "print(pizza1.size)\n",
    "print(pizza1.addon)"
   ]
  },
  {
   "cell_type": "markdown",
   "metadata": {
    "id": "circular-massachusetts"
   },
   "source": [
    "4. Unit Testing:  \n",
    "Write function that once inputted a birth year - will validate whether the person is above 80 years old and by that - classified to get a COVID vaccine! Raise AssertionError if not."
   ]
  },
  {
   "cell_type": "code",
   "execution_count": 19,
   "metadata": {
    "id": "bright-thread"
   },
   "outputs": [
    {
     "name": "stdout",
     "output_type": "stream",
     "text": [
      "Approved For Vaccine\n"
     ]
    }
   ],
   "source": [
    "# YOUR SOLUTION\n",
    "def covid_check(age):\n",
    "    assert age > 80, \"Age should be below 80\"\n",
    "    print(\"Approved For Vaccine\")\n",
    "covid_check(82)"
   ]
  },
  {
   "cell_type": "markdown",
   "metadata": {
    "id": "unavailable-flash"
   },
   "source": [
    "*** 5. Write Integration Test of your choice (OPTIONAL):"
   ]
  },
  {
   "cell_type": "code",
   "execution_count": null,
   "metadata": {
    "id": "western-prayer"
   },
   "outputs": [],
   "source": [
    "# YOUR SOLUTION"
   ]
  }
 ],
 "metadata": {
  "colab": {
   "name": "SW Design.ipynb",
   "provenance": []
  },
  "kernelspec": {
   "display_name": "Python 3",
   "language": "python",
   "name": "python3"
  },
  "language_info": {
   "codemirror_mode": {
    "name": "ipython",
    "version": 3
   },
   "file_extension": ".py",
   "mimetype": "text/x-python",
   "name": "python",
   "nbconvert_exporter": "python",
   "pygments_lexer": "ipython3",
   "version": "3.8.5"
  }
 },
 "nbformat": 4,
 "nbformat_minor": 5
}
